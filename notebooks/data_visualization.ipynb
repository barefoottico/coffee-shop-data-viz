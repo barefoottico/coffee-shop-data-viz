{
 "cells": [
  {
   "cell_type": "markdown",
   "metadata": {},
   "source": [
    "# Coffee Shop Data Visualization\n",
    "\n",
    "## Introduction\n",
    "This notebook creates interactive visualizations for the coffee shop sales data.\n",
    "\n",
    "## Import Libraries\n",
    "```python\n",
    "import pandas as pd\n",
    "import plotly.express as px"
   ]
  },
  {
   "cell_type": "code",
   "execution_count": null,
   "metadata": {},
   "outputs": [],
   "source": [
    "# Load the cleaned data\n",
    "cleaned_data = pd.read_csv('../data/cleaned_data.csv')\n",
    "cleaned_data.head()\n"
   ]
  },
  {
   "cell_type": "code",
   "execution_count": null,
   "metadata": {},
   "outputs": [],
   "source": [
    "# Create an interactive line plot for sales trends\n",
    "fig = px.line(cleaned_data, x='date', y='sales', title='Sales Trends Over Time')\n",
    "fig.update_xaxes(title='Date')\n",
    "fig.update_yaxes(title='Sales')\n",
    "fig.show()\n"
   ]
  },
  {
   "cell_type": "code",
   "execution_count": null,
   "metadata": {},
   "outputs": [],
   "source": [
    "# Create an interactive bar plot for popular products\n",
    "product_counts = cleaned_data['product'].value_counts().reset_index()\n",
    "product_counts.columns = ['Product', 'Count']\n",
    "\n",
    "fig = px.bar(product_counts, x='Product', y='Count', title='Popular Products')\n",
    "fig.update_xaxes(title='Product')\n",
    "fig.update_yaxes(title='Count')\n",
    "fig.show()\n"
   ]
  }
 ],
 "metadata": {
  "language_info": {
   "name": "python"
  }
 },
 "nbformat": 4,
 "nbformat_minor": 2
}
