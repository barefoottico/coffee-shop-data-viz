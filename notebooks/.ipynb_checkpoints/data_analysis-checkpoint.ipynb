{
 "cells": [
  {
   "cell_type": "markdown",
   "metadata": {},
   "source": [
    "# Coffee Shop Data Analysis\n",
    "\n",
    "## Introduction\n",
    "This notebook performs data analysis on the cleaned coffee shop sales data.\n",
    "\n",
    "## Import Libraries\n",
    "```python\n",
    "import pandas as pd\n",
    "import numpy as np\n",
    "import matplotlib.pyplot as plt\n",
    "import seaborn as sns\n"
   ]
  },
  {
   "cell_type": "code",
   "execution_count": null,
   "metadata": {},
   "outputs": [],
   "source": [
    "# Load the cleaned data\n",
    "cleaned_data = pd.read_csv('../data/cleaned_data.csv')\n",
    "cleaned_data.head()\n"
   ]
  },
  {
   "cell_type": "code",
   "execution_count": null,
   "metadata": {},
   "outputs": [],
   "source": [
    "# Plot sales trends over time\n",
    "plt.figure(figsize=(12, 6))\n",
    "sns.lineplot(data=cleaned_data, x='date', y='sales')\n",
    "plt.title('Sales Trends Over Time')\n",
    "plt.xlabel('Date')\n",
    "plt.ylabel('Sales')\n",
    "plt.xticks(rotation=45)\n",
    "plt.tight_layout()  # Adjusts the plot to ensure everything fits without overlapping\n",
    "plt.show()\n"
   ]
  },
  {
   "cell_type": "code",
   "execution_count": null,
   "metadata": {},
   "outputs": [],
   "source": [
    "# Plot popular products\n",
    "plt.figure(figsize=(12, 6))\n",
    "popular_products = cleaned_data['product'].value_counts()\n",
    "sns.barplot(x=popular_products.index, y=popular_products.values, palette='viridis')\n",
    "plt.title('Popular Products')\n",
    "plt.xlabel('Product')\n",
    "plt.ylabel('Count')\n",
    "plt.xticks(rotation=90)\n",
    "plt.tight_layout()  # Adjusts the plot to ensure everything fits without overlapping\n",
    "plt.show()\n"
   ]
  }
 ],
 "metadata": {
  "language_info": {
   "name": "python"
  }
 },
 "nbformat": 4,
 "nbformat_minor": 2
}
