{
 "cells": [
  {
   "cell_type": "markdown",
   "id": "4fe1c236",
   "metadata": {},
   "source": [
    "# Coffee Shop Data Cleaning\n",
    "\n",
    "## Introduction\n",
    "This notebook contains the steps for cleaning the raw coffee shop sales data."
   ]
  },
  {
   "cell_type": "code",
   "execution_count": null,
   "id": "0e44e1a1-cb48-44d4-afe7-e6679b654c6c",
   "metadata": {},
   "outputs": [],
   "source": [
    "import pandas as pd\n",
    "import numpy as np"
   ]
  },
  {
   "cell_type": "code",
   "execution_count": null,
   "id": "62fcdaa7-def1-4bf8-87be-172d6123f899",
   "metadata": {},
   "outputs": [],
   "source": [
    "# Load the raw data\n",
    "raw_data = pd.read_csv('../data/raw_data.csv')\n",
    "raw_data.head()"
   ]
  },
  {
   "cell_type": "code",
   "execution_count": null,
   "id": "83aeec23-3c65-4087-be61-0941677ab0c1",
   "metadata": {},
   "outputs": [],
   "source": [
    "# Example: Fill missing values\n",
    "cleaned_data = raw_data.fillna(method='ffill')"
   ]
  },
  {
   "cell_type": "code",
   "execution_count": null,
   "id": "9e6d8aca-c8a7-441a-9eee-e8b4781bd4ec",
   "metadata": {},
   "outputs": [],
   "source": [
    "# Example: Remove duplicate rows\n",
    "cleaned_data = cleaned_data.drop_duplicates()"
   ]
  },
  {
   "cell_type": "code",
   "execution_count": null,
   "id": "6f2283b8-b617-4c4e-a03c-9fe9290a9403",
   "metadata": {},
   "outputs": [],
   "source": [
    "# Save the cleaned data\n",
    "cleaned_data.to_csv('../data/cleaned_data.csv', index=False)"
   ]
  },
  {
   "cell_type": "code",
   "execution_count": null,
   "id": "e1267dc3-4e90-40cf-811f-0e406b7d9f5c",
   "metadata": {},
   "outputs": [],
   "source": [
    "## Summary\n",
    "This notebook covers the data cleaning steps including handling missing values, removing duplicates, and converting data types."
   ]
  },
  {
   "cell_type": "code",
   "execution_count": null,
   "id": "1a414d82-42e9-4e06-9c56-e1ea5893fe31",
   "metadata": {},
   "outputs": [],
   "source": []
  }
 ],
 "metadata": {
  "kernelspec": {
   "display_name": "Python 3 (ipykernel)",
   "language": "python",
   "name": "python3"
  },
  "language_info": {
   "codemirror_mode": {
    "name": "ipython",
    "version": 3
   },
   "file_extension": ".py",
   "mimetype": "text/x-python",
   "name": "python",
   "nbconvert_exporter": "python",
   "pygments_lexer": "ipython3",
   "version": "3.12.4"
  }
 },
 "nbformat": 4,
 "nbformat_minor": 5
}
